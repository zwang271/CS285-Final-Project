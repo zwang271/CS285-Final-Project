{
 "cells": [
  {
   "cell_type": "code",
   "execution_count": 2,
   "id": "91e8ecc3",
   "metadata": {},
   "outputs": [],
   "source": [
    "import torch\n",
    "import torch.nn as nn\n",
    "import numpy as np"
   ]
  },
  {
   "cell_type": "code",
   "execution_count": 3,
   "id": "c379b5b6",
   "metadata": {},
   "outputs": [
    {
     "name": "stdout",
     "output_type": "stream",
     "text": [
      "torch.Size([1, 4, 6, 6])\n"
     ]
    },
    {
     "name": "stderr",
     "output_type": "stream",
     "text": [
      "C:\\Users\\Jonathanandzili\\AppData\\Local\\Temp\\ipykernel_5688\\3763458772.py:22: UserWarning: To copy construct from a tensor, it is recommended to use sourceTensor.clone().detach() or sourceTensor.clone().detach().requires_grad_(True), rather than torch.tensor(sourceTensor).\n",
      "  obs = torch.tensor(obs)\n"
     ]
    }
   ],
   "source": [
    "obs = [[[[0., 0., 1., 1.],\n",
    "          [1., 0., 0., 1.],\n",
    "          [1., 0., 0., 1.],\n",
    "          [1., 1., 1., 1.]],\n",
    "\n",
    "         [[1., 0., 0., 0.],\n",
    "          [0., 1., 0., 0.],\n",
    "          [0., 0., 1., 0.],\n",
    "          [0., 0., 0., 0.]],\n",
    "\n",
    "         [[0., 1., 0., 0.],\n",
    "          [0., 0., 1., 0.],\n",
    "          [0., 1., 0., 0.],\n",
    "          [0., 0., 0., 0.]],\n",
    "\n",
    "         [[0., 0., 0., 0.],\n",
    "          [1., 0., 0., 0.],\n",
    "          [0., 0., 0., 1.],\n",
    "          [0., 0., 1., 0.]]]]\n",
    "\n",
    "obs = torch.rand(1, 4, 6, 6)\n",
    "obs = torch.tensor(obs)\n",
    "print(obs.shape)"
   ]
  },
  {
   "cell_type": "code",
   "execution_count": 4,
   "id": "91284c8f",
   "metadata": {},
   "outputs": [],
   "source": [
    "class Othello_QNet(nn.Module):\n",
    "    def __init__(self, board_size, in_channels=4, hidden_channels=8):\n",
    "        super(Othello_QNet, self).__init__()\n",
    "        self.board_size = board_size\n",
    "        self.hidden_channels = hidden_channels\n",
    "        self.in_channels = in_channels\n",
    "        self.actions = [i for i in range(self.board_size**2)]\n",
    "\n",
    "        # Input shape: (4, board_size, board_size)\n",
    "        self.f = nn.Sequential(\n",
    "            nn.Conv2d(self.in_channels, self.hidden_channels, kernel_size=3, stride=1, padding=1),\n",
    "            nn.BatchNorm2d(self.hidden_channels),\n",
    "            nn.ReLU(),\n",
    "\n",
    "            nn.Conv2d(self.hidden_channels, self.hidden_channels, kernel_size=3, stride=1, padding=1),\n",
    "            nn.BatchNorm2d(self.hidden_channels),\n",
    "            nn.ReLU(),\n",
    "\n",
    "            nn.Conv2d(self.hidden_channels, self.hidden_channels, kernel_size=3, stride=1, padding=1),\n",
    "            nn.BatchNorm2d(self.hidden_channels),\n",
    "            nn.ReLU(),\n",
    "        )\n",
    "\n",
    "        self.Conv_Policy = nn.Conv2d(self.hidden_channels, 1, kernel_size=3, stride=1, padding=1)\n",
    "        self.Softmax = nn.Softmax(dim=1)\n",
    "\n",
    "        self.FC_Value = nn.Linear(self.hidden_channels * self.board_size**2, 1, bias=False)\n",
    "        self.sigmoid = nn.Sigmoid()\n",
    "    \n",
    "    def forward(self, x):\n",
    "        x = x.reshape(-1, self.in_channels, self.board_size, self.board_size)\n",
    "        x = self.f(x)\n",
    "\n",
    "        # Compute ac_probs\n",
    "        ac_probs = self.Conv_Policy(x).reshape(-1, self.board_size**2)\n",
    "        ac_probs = self.Softmax(ac_probs)\n",
    "        \n",
    "        # Compute Q value\n",
    "        value = self.FC_Value(x.view(-1, self.hidden_channels * self.board_size**2))\n",
    "        value = self.sigmoid(value)\n",
    "\n",
    "        return value, ac_probs\n",
    "    \n",
    "    def get_action(self, obs):\n",
    "        obs = obs.reshape(self.in_channels, self.board_size, self.board_size)\n",
    "        _, ac_probs = self.forward(obs)\n",
    "        legal_moves_mask = torch.flatten(obs[-1])\n",
    "        ac_probs = (ac_probs * legal_moves_mask).reshape(-1)\n",
    "        ac_probs = ac_probs.detach().numpy()\n",
    "        ac_probs = ac_probs / np.sum(ac_probs)\n",
    "        action = np.random.choice(self.actions, size=1, p=ac_probs)\n",
    "        return action"
   ]
  },
  {
   "cell_type": "code",
   "execution_count": 5,
   "id": "dee61bdf",
   "metadata": {},
   "outputs": [
    {
     "name": "stdout",
     "output_type": "stream",
     "text": [
      "[16]\n"
     ]
    }
   ],
   "source": [
    "QNet = Othello_QNet(board_size=6)\n",
    "value, ac_probs = QNet(obs)\n",
    "\n",
    "print(QNet.get_action(obs))"
   ]
  },
  {
   "cell_type": "code",
   "execution_count": 11,
   "id": "b57f3585",
   "metadata": {},
   "outputs": [
    {
     "name": "stdout",
     "output_type": "stream",
     "text": [
      "[1, 2, 3, 4, 4]\n",
      "[1, 2, 3, 4, 4]\n",
      "[1, 2, 3, 4, 4]\n"
     ]
    }
   ],
   "source": [
    "class Node():\n",
    "    def __init__(self, L):\n",
    "        self.L = L\n",
    "        self.child = []\n",
    "\n",
    "    def expand(self):\n",
    "        left = Node(L)\n",
    "        right = Node(L)\n",
    "        self.child = [left, right]\n",
    "\n",
    "L = [1, 2, 3, 4]\n",
    "root = Node(L)\n",
    "root.expand()\n",
    "\n",
    "L.append(4)\n",
    "print(root.L)\n",
    "print(root.child[0].L)\n",
    "print(root.child[1].L)"
   ]
  }
 ],
 "metadata": {
  "kernelspec": {
   "display_name": "Python 3 (ipykernel)",
   "language": "python",
   "name": "python3"
  },
  "language_info": {
   "codemirror_mode": {
    "name": "ipython",
    "version": 3
   },
   "file_extension": ".py",
   "mimetype": "text/x-python",
   "name": "python",
   "nbconvert_exporter": "python",
   "pygments_lexer": "ipython3",
   "version": "3.9.12"
  }
 },
 "nbformat": 4,
 "nbformat_minor": 5
}
