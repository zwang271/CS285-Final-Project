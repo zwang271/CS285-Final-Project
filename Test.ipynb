{
 "cells": [
  {
   "cell_type": "code",
   "execution_count": 1,
   "id": "91e8ecc3",
   "metadata": {},
   "outputs": [],
   "source": [
    "import torch\n",
    "import torch.nn as nn\n",
    "import numpy as np"
   ]
  },
  {
   "cell_type": "code",
   "execution_count": 2,
   "id": "c379b5b6",
   "metadata": {},
   "outputs": [
    {
     "name": "stdout",
     "output_type": "stream",
     "text": [
      "tensor([[[[0.0089, 0.2716, 0.2336, 0.8858],\n",
      "          [0.0911, 0.1410, 0.0812, 0.3638],\n",
      "          [0.8331, 0.9065, 0.8579, 0.2625],\n",
      "          [0.6742, 0.1075, 0.6947, 0.7362]],\n",
      "\n",
      "         [[0.8590, 0.0500, 0.4145, 0.4060],\n",
      "          [0.1767, 0.9980, 0.4415, 0.0838],\n",
      "          [0.0332, 0.5095, 0.4402, 0.8077],\n",
      "          [0.5429, 0.1697, 0.5759, 0.5666]],\n",
      "\n",
      "         [[0.5888, 0.8027, 0.2435, 0.5854],\n",
      "          [0.5964, 0.9139, 0.3052, 0.4030],\n",
      "          [0.6395, 0.3709, 0.5470, 0.4967],\n",
      "          [0.7824, 0.5559, 0.5852, 0.2932]],\n",
      "\n",
      "         [[0.2872, 0.6416, 0.3181, 0.3236],\n",
      "          [0.8485, 0.8219, 0.3015, 0.4674],\n",
      "          [0.4075, 0.0832, 0.0299, 0.6567],\n",
      "          [0.7302, 0.9547, 0.3857, 0.4873]]]]) torch.Size([1, 4, 4, 4])\n"
     ]
    }
   ],
   "source": [
    "obs = torch.rand(4, 4, 4)\n",
    "obs = obs.view(-1, 4, 4, 4)\n",
    "print(obs, obs.shape)"
   ]
  },
  {
   "cell_type": "code",
   "execution_count": 3,
   "id": "91284c8f",
   "metadata": {},
   "outputs": [],
   "source": [
    "class Othello_QNet(nn.Module):\n",
    "    def __init__(self, board_size, in_channels=4, hidden_channels=8):\n",
    "        super(Othello_QNet, self).__init__()\n",
    "        self.board_size = board_size\n",
    "        self.hidden_channels = hidden_channels\n",
    "        self.in_channels = in_channels\n",
    "\n",
    "        # Input shape: (3, board_size, board_size)\n",
    "        self.f = nn.Sequential(\n",
    "            nn.Conv2d(self.in_channels, self.hidden_channels, kernel_size=3, stride=1, padding=1),\n",
    "            nn.BatchNorm2d(self.hidden_channels),\n",
    "            nn.Tanh(),\n",
    "\n",
    "            nn.Conv2d(self.hidden_channels, self.hidden_channels, kernel_size=3, stride=1, padding=1),\n",
    "            nn.BatchNorm2d(self.hidden_channels),\n",
    "            nn.Tanh(),\n",
    "\n",
    "            nn.Conv2d(self.hidden_channels, self.hidden_channels, kernel_size=3, stride=1, padding=1),\n",
    "            nn.BatchNorm2d(self.hidden_channels),\n",
    "            nn.Tanh(),\n",
    "        )\n",
    "\n",
    "        self.Conv_Policy = nn.Conv2d(self.hidden_channels, 1, kernel_size=3, stride=1, padding=1)\n",
    "        self.Softmax = nn.Softmax(dim=0)\n",
    "\n",
    "        self.FC_Value = nn.Linear(self.hidden_channels * self.board_size**2, 1, bias=False)\n",
    "    \n",
    "    def forward(self, x):\n",
    "        x = self.f(x)\n",
    "        ac_probs = self.Conv_Policy(x)\n",
    "        ac_probs = self.Softmax(torch.flatten(ac_probs)).reshape(-1, 1, self.board_size, self.board_size)\n",
    "        value = self.FC_Value(torch.flatten(x))\n",
    "        return value, ac_probs"
   ]
  },
  {
   "cell_type": "code",
   "execution_count": 7,
   "id": "dee61bdf",
   "metadata": {},
   "outputs": [
    {
     "name": "stdout",
     "output_type": "stream",
     "text": [
      "tensor([0.0258], grad_fn=<SqueezeBackward3>)\n",
      "tensor([[[[0.0617, 0.0763, 0.0550, 0.0479],\n",
      "          [0.0544, 0.0526, 0.1033, 0.0980],\n",
      "          [0.0648, 0.0446, 0.0480, 0.0639],\n",
      "          [0.0456, 0.0493, 0.0744, 0.0602]]]], grad_fn=<ReshapeAliasBackward0>) torch.Size([1, 1, 4, 4]) 0.9999998211860657\n"
     ]
    }
   ],
   "source": [
    "QNet = Othello_QNet(board_size=4)\n",
    "value, ac_probs = QNet(obs)\n",
    "\n",
    "print(value)\n",
    "print(ac_probs, ac_probs.shape, torch.sum(ac_probs).item())"
   ]
  }
 ],
 "metadata": {
  "kernelspec": {
   "display_name": "Python 3 (ipykernel)",
   "language": "python",
   "name": "python3"
  },
  "language_info": {
   "codemirror_mode": {
    "name": "ipython",
    "version": 3
   },
   "file_extension": ".py",
   "mimetype": "text/x-python",
   "name": "python",
   "nbconvert_exporter": "python",
   "pygments_lexer": "ipython3",
   "version": "3.9.12"
  }
 },
 "nbformat": 4,
 "nbformat_minor": 5
}
